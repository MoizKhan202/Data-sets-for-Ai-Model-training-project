{
 "cells": [
  {
   "cell_type": "markdown",
   "id": "cade2f9c-751f-434b-84ce-ba201c840b38",
   "metadata": {},
   "source": [
    "# KNN"
   ]
  },
  {
   "cell_type": "code",
   "execution_count": null,
   "id": "a1d57bc2-e174-4e8b-8cb4-e125364954e6",
   "metadata": {},
   "outputs": [],
   "source": [
    "from sklearn.neighbors import KNeighborsClassifier \n",
    "from sklearn.model_selection import train_test_split \n",
    "from sklearn.metrics import accuracy_score\n",
    "# Assuming your data is stored in a pandas DataFrame called 'data' \n",
    "X = data.drop('target', axis=1)  # Features \n",
    "y = data['target']  # Class labels \n",
    "X_train, X_test, y_train, y_test = train_test_split(X, y, test_size=0.2, random_state=42)\n",
    "k = 5  # Number of neighbors \n",
    "knn = KNeighborsClassifier(n_neighbors=k) \n",
    "knn.fit(X_train, y_train) \n",
    "y_pred = knn.predict(X_test)\n",
    "accuracy = accuracy_score(y_test, y_pred) \n",
    "print(\"Accuracy:\", accuracy)"
   ]
  },
  {
   "cell_type": "markdown",
   "id": "5cb3452f-fdaa-43dd-99a2-29f53152fd8e",
   "metadata": {},
   "source": [
    "# K mean"
   ]
  },
  {
   "cell_type": "code",
   "execution_count": null,
   "id": "203b4681-6d1c-46d8-9a1c-1571e6186ddb",
   "metadata": {},
   "outputs": [],
   "source": [
    "from sklearn.cluster import KMeans\n",
    "k = 3  # Number of clusters \n",
    "kmeans = KMeans(n_clusters=k) \n",
    "kmeans.fit(X) \n",
    "cluster_labels = kmeans.labels_ \n",
    "# Example: Counting the number of data points in each cluster \n",
    "import numpy as np \n",
    "unique_labels, counts = np.unique(cluster_labels, return_counts=True) \n",
    "for label, count in zip(unique_labels, counts): \n",
    "    print(\"Cluster {}: {} data points\".format(label, count))\n",
    "# Example: Visualizing clusters using matplotlib \n",
    "import matplotlib.pyplot as plt \n",
    "plt.scatter(X[:, 0], X[:, 1], c=cluster_labels) \n",
    "plt.xlabel(\"Feature 1\") \n",
    "plt.ylabel(\"Feature 2\") \n",
    "plt.title(\"K-Means Clustering\") \n",
    "plt.show() "
   ]
  },
  {
   "cell_type": "markdown",
   "id": "3155c0aa-212d-47f5-8a1b-df3abf85fd1a",
   "metadata": {},
   "source": [
    "# Naive bayes"
   ]
  },
  {
   "cell_type": "code",
   "execution_count": null,
   "id": "fec8926a-c5a6-4bb3-8902-5cb6bff7b5fd",
   "metadata": {},
   "outputs": [],
   "source": [
    "from sklearn.naive_bayes import GaussianNB \n",
    "from sklearn.model_selection import train_test_split \n",
    "from sklearn.metrics import accuracy_score\n",
    "# Assuming your data is stored in a pandas DataFrame called 'data' \n",
    "X = data.drop('target', axis=1)  # Features \n",
    "y = data['target']  # Class labels \n",
    "X_train, X_test, y_train, y_test = train_test_split(X, y, test_size=0.2, random_state=42)\n",
    "nb = GaussianNB() \n",
    "nb.fit(X_train, y_train)\n",
    "y_pred = nb.predict(X_test)\n",
    "accuracy = accuracy_score(y_test, y_pred) \n",
    "print(\"Accuracy:\", accuracy) "
   ]
  }
 ],
 "metadata": {
  "kernelspec": {
   "display_name": "Python 3 (ipykernel)",
   "language": "python",
   "name": "python3"
  },
  "language_info": {
   "codemirror_mode": {
    "name": "ipython",
    "version": 3
   },
   "file_extension": ".py",
   "mimetype": "text/x-python",
   "name": "python",
   "nbconvert_exporter": "python",
   "pygments_lexer": "ipython3",
   "version": "3.11.7"
  }
 },
 "nbformat": 4,
 "nbformat_minor": 5
}
